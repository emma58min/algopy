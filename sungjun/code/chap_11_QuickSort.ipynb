{
 "cells": [
  {
   "cell_type": "code",
   "execution_count": 42,
   "metadata": {},
   "outputs": [],
   "source": [
    "def bubble(a):\n",
    "    cnt=0\n",
    "    for i in range(0,len(a)-1):\n",
    "        if a[i]>a[i+1]:\n",
    "            a[i],a[i+1] = a[i+1],a[i]\n",
    "            cnt+=1\n",
    "    if cnt==0:\n",
    "        return\n",
    "    bubble(a)"
   ]
  },
  {
   "cell_type": "code",
   "execution_count": 44,
   "metadata": {},
   "outputs": [
    {
     "name": "stdout",
     "output_type": "stream",
     "text": [
      "[1, 2, 3, 4, 5]\n"
     ]
    }
   ],
   "source": [
    "a = [2,4,5,1,3]\n",
    "bubble(a)\n",
    "print(a)"
   ]
  },
  {
   "cell_type": "code",
   "execution_count": 45,
   "metadata": {},
   "outputs": [
    {
     "name": "stdout",
     "output_type": "stream",
     "text": [
      "[1, 2, 3, 4, 5, 6, 44, 45, 123]\n"
     ]
    }
   ],
   "source": [
    "a = [123,44,6,45,2,4,5,1,3]\n",
    "bubble(a)\n",
    "print(a)"
   ]
  },
  {
   "cell_type": "code",
   "execution_count": 95,
   "metadata": {},
   "outputs": [],
   "source": [
    "clothes = [[\"yellow_hat\", \"headgear\"], [\"blue_sunglasses\", \"eyewear\"], [\"green_turban\", \"headgear\"]]"
   ]
  },
  {
   "cell_type": "code",
   "execution_count": null,
   "metadata": {},
   "outputs": [],
   "source": [
    "def solution(clothes):\n",
    "    from collections import Counter\n",
    "    from functools import reduce\n",
    "    cnt = Counter([kind for name, kind in clothes])\n",
    "    answer = reduce(lambda x, y: x*(y+1), cnt.values(), 1) - 1\n",
    "    return answer"
   ]
  }
 ],
 "metadata": {
  "kernelspec": {
   "display_name": "Python 3",
   "language": "python",
   "name": "python3"
  },
  "language_info": {
   "codemirror_mode": {
    "name": "ipython",
    "version": 3
   },
   "file_extension": ".py",
   "mimetype": "text/x-python",
   "name": "python",
   "nbconvert_exporter": "python",
   "pygments_lexer": "ipython3",
   "version": "3.7.3"
  }
 },
 "nbformat": 4,
 "nbformat_minor": 4
}
