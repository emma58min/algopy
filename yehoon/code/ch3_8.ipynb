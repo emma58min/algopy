{
 "cells": [
  {
   "cell_type": "code",
   "execution_count": 15,
   "metadata": {},
   "outputs": [],
   "source": [
    "def find_min_idx(a):\n",
    "    n = len(a)\n",
    "    min_idx = 0\n",
    "    for i in range(1, n):\n",
    "        if a[i] < a[min_idx]:\n",
    "            min_idx = i\n",
    "    return min_idx"
   ]
  },
  {
   "cell_type": "code",
   "execution_count": 27,
   "metadata": {},
   "outputs": [],
   "source": [
    "def sel_sort(a):\n",
    "    result = []\n",
    "    loop = 0\n",
    "    while a:\n",
    "        loop+=1\n",
    "        print((\"** {} loop **\").format(loop))\n",
    "        print(\"a:\", a)\n",
    "        min_idx = find_min_idx(a)\n",
    "        print(\"min_idx:\", min_idx)\n",
    "        value = a.pop(min_idx)\n",
    "        print(\"value:\", value)\n",
    "        result.append(value)\n",
    "        print(\"result:\", result)\n",
    "        print(\"------------------\")\n",
    "    return result"
   ]
  },
  {
   "cell_type": "code",
   "execution_count": 28,
   "metadata": {},
   "outputs": [
    {
     "name": "stdout",
     "output_type": "stream",
     "text": [
      "** 1 loop **\n",
      "a: [2, 4, 5, 1, 3]\n",
      "min_idx: 3\n",
      "value: 1\n",
      "result: [1]\n",
      "------------------\n",
      "** 2 loop **\n",
      "a: [2, 4, 5, 3]\n",
      "min_idx: 0\n",
      "value: 2\n",
      "result: [1, 2]\n",
      "------------------\n",
      "** 3 loop **\n",
      "a: [4, 5, 3]\n",
      "min_idx: 2\n",
      "value: 3\n",
      "result: [1, 2, 3]\n",
      "------------------\n",
      "** 4 loop **\n",
      "a: [4, 5]\n",
      "min_idx: 0\n",
      "value: 4\n",
      "result: [1, 2, 3, 4]\n",
      "------------------\n",
      "** 5 loop **\n",
      "a: [5]\n",
      "min_idx: 0\n",
      "value: 5\n",
      "result: [1, 2, 3, 4, 5]\n",
      "------------------\n",
      "[1, 2, 3, 4, 5]\n"
     ]
    }
   ],
   "source": [
    "d = [2, 4, 5, 1, 3]\n",
    "print(sel_sort(d))"
   ]
  },
  {
   "cell_type": "code",
   "execution_count": 73,
   "metadata": {},
   "outputs": [],
   "source": [
    "def sel_sort_2(a):\n",
    "    n = len(a)\n",
    "    loop = 0\n",
    "    for i in range(n-1):\n",
    "        loop+=1\n",
    "        print((\"** {} loop **\").format(loop))\n",
    "        print(\"a:\", a)\n",
    "        min_idx = i\n",
    "        for j in range(i+1, n):\n",
    "            if a[j] < a[min_idx]:\n",
    "                min_idx = j\n",
    "        a[i], a[min_idx] = a[min_idx], a[i]\n",
    "        print(\"a:\", a)\n",
    "        print(\"------------------\")"
   ]
  },
  {
   "cell_type": "code",
   "execution_count": 74,
   "metadata": {},
   "outputs": [
    {
     "name": "stdout",
     "output_type": "stream",
     "text": [
      "** 1 loop **\n",
      "a: [2, 4, 5, 1, 3]\n",
      "a: [1, 4, 5, 2, 3]\n",
      "------------------\n",
      "** 2 loop **\n",
      "a: [1, 4, 5, 2, 3]\n",
      "a: [1, 2, 5, 4, 3]\n",
      "------------------\n",
      "** 3 loop **\n",
      "a: [1, 2, 5, 4, 3]\n",
      "a: [1, 2, 3, 4, 5]\n",
      "------------------\n",
      "** 4 loop **\n",
      "a: [1, 2, 3, 4, 5]\n",
      "a: [1, 2, 3, 4, 5]\n",
      "------------------\n",
      "[1, 2, 3, 4, 5]\n"
     ]
    }
   ],
   "source": [
    "d = [2, 4, 5, 1, 3]\n",
    "sel_sort_2(d)\n",
    "print(d)"
   ]
  },
  {
   "cell_type": "code",
   "execution_count": 75,
   "metadata": {},
   "outputs": [
    {
     "data": {
      "text/plain": [
       "5"
      ]
     },
     "execution_count": 75,
     "metadata": {},
     "output_type": "execute_result"
    }
   ],
   "source": [
    "a = [1, 2, 3, 4, 5]\n",
    "a.pop()"
   ]
  },
  {
   "cell_type": "code",
   "execution_count": 76,
   "metadata": {},
   "outputs": [
    {
     "data": {
      "text/plain": [
       "[1, 2, 3, 4]"
      ]
     },
     "execution_count": 76,
     "metadata": {},
     "output_type": "execute_result"
    }
   ],
   "source": [
    "a"
   ]
  },
  {
   "cell_type": "code",
   "execution_count": 77,
   "metadata": {},
   "outputs": [
    {
     "data": {
      "text/plain": [
       "2"
      ]
     },
     "execution_count": 77,
     "metadata": {},
     "output_type": "execute_result"
    }
   ],
   "source": [
    "a.pop(1)"
   ]
  },
  {
   "cell_type": "code",
   "execution_count": 78,
   "metadata": {},
   "outputs": [
    {
     "data": {
      "text/plain": [
       "[1, 3, 4]"
      ]
     },
     "execution_count": 78,
     "metadata": {},
     "output_type": "execute_result"
    }
   ],
   "source": [
    "a"
   ]
  }
 ],
 "metadata": {
  "kernelspec": {
   "display_name": "Python 3",
   "language": "python",
   "name": "python3"
  },
  "language_info": {
   "codemirror_mode": {
    "name": "ipython",
    "version": 3
   },
   "file_extension": ".py",
   "mimetype": "text/x-python",
   "name": "python",
   "nbconvert_exporter": "python",
   "pygments_lexer": "ipython3",
   "version": "3.7.4"
  }
 },
 "nbformat": 4,
 "nbformat_minor": 2
}
