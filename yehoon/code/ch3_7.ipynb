{
 "cells": [
  {
   "cell_type": "markdown",
   "metadata": {},
   "source": [
    "### ex 7-1"
   ]
  },
  {
   "cell_type": "code",
   "execution_count": 1,
   "metadata": {},
   "outputs": [],
   "source": [
    "def search_num(a, x):\n",
    "    for i in range(len(a)):\n",
    "        if x == a[i]:\n",
    "            return i\n",
    "    return -1"
   ]
  },
  {
   "cell_type": "code",
   "execution_count": 4,
   "metadata": {},
   "outputs": [
    {
     "name": "stdout",
     "output_type": "stream",
     "text": [
      "1\n",
      "7\n",
      "-1\n"
     ]
    }
   ],
   "source": [
    "a = [1,4,6,23,6,3,645,234]\n",
    "print(search_num(a, 4))\n",
    "print(search_num(a, 234))\n",
    "print(search_num(a, 3452))"
   ]
  },
  {
   "cell_type": "markdown",
   "metadata": {},
   "source": [
    "### 7-1"
   ]
  },
  {
   "cell_type": "code",
   "execution_count": 8,
   "metadata": {},
   "outputs": [],
   "source": [
    "def search_num_1(a, x):\n",
    "    result = []\n",
    "    for i in range(len(a)):\n",
    "        if x == a[i]:\n",
    "            result.append(i)\n",
    "    return result"
   ]
  },
  {
   "cell_type": "code",
   "execution_count": 9,
   "metadata": {},
   "outputs": [
    {
     "name": "stdout",
     "output_type": "stream",
     "text": [
      "[1]\n",
      "[7]\n",
      "[]\n"
     ]
    }
   ],
   "source": [
    "a = [1,4,6,23,6,3,645,234]\n",
    "print(search_num_1(a, 4))\n",
    "print(search_num_1(a, 234))\n",
    "print(search_num_1(a, 3452))"
   ]
  },
  {
   "cell_type": "markdown",
   "metadata": {},
   "source": [
    "### 7-2"
   ]
  },
  {
   "cell_type": "code",
   "execution_count": 10,
   "metadata": {},
   "outputs": [],
   "source": [
    "def get_stu_name(stu_num, stu_name, find_num):\n",
    "    for i in range(len(stu_num)):\n",
    "        if find_num == stu_num[i]:\n",
    "            return stu_name[i]\n",
    "    return \"?\""
   ]
  },
  {
   "cell_type": "code",
   "execution_count": 13,
   "metadata": {},
   "outputs": [],
   "source": [
    "stu_num = [39, 14, 67, 105]\n",
    "stu_name = ['a', 'b', 'c', 'd']"
   ]
  },
  {
   "cell_type": "code",
   "execution_count": 14,
   "metadata": {},
   "outputs": [
    {
     "name": "stdout",
     "output_type": "stream",
     "text": [
      "c\n",
      "?\n"
     ]
    }
   ],
   "source": [
    "print(get_stu_name(stu_num, stu_name, 67))\n",
    "print(get_stu_name(stu_num, stu_name, 777))"
   ]
  }
 ],
 "metadata": {
  "kernelspec": {
   "display_name": "Python 3",
   "language": "python",
   "name": "python3"
  },
  "language_info": {
   "codemirror_mode": {
    "name": "ipython",
    "version": 3
   },
   "file_extension": ".py",
   "mimetype": "text/x-python",
   "name": "python",
   "nbconvert_exporter": "python",
   "pygments_lexer": "ipython3",
   "version": "3.7.4"
  }
 },
 "nbformat": 4,
 "nbformat_minor": 2
}
