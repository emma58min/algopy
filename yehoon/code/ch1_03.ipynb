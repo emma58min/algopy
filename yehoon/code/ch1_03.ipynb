{
 "cells": [
  {
   "cell_type": "markdown",
   "metadata": {},
   "source": [
    "### ex 3-1"
   ]
  },
  {
   "cell_type": "code",
   "execution_count": 1,
   "metadata": {},
   "outputs": [],
   "source": [
    "def find_same_name(a):\n",
    "    n = len(a)\n",
    "    result = set()\n",
    "    for i in range(0,n-1):\n",
    "        for j in range(i+1, n):\n",
    "            if a[i] == a[j]:\n",
    "                result.add(a[i])\n",
    "    return result"
   ]
  },
  {
   "cell_type": "code",
   "execution_count": 2,
   "metadata": {},
   "outputs": [],
   "source": [
    "a = [\"Tom\", \"Jay\", \"Mike\", \"Tom\"]\n",
    "b = [\"Tom\", \"Jay\", \"Mike\", \"Tom\", \"Mike\", \"Mark\", \"Mike\"]"
   ]
  },
  {
   "cell_type": "code",
   "execution_count": 3,
   "metadata": {},
   "outputs": [
    {
     "name": "stdout",
     "output_type": "stream",
     "text": [
      "{'Tom'}\n",
      "{'Tom', 'Mike'}\n"
     ]
    }
   ],
   "source": [
    "print(find_same_name(a))\n",
    "print(find_same_name(b))"
   ]
  },
  {
   "cell_type": "markdown",
   "metadata": {},
   "source": [
    "### 3-1"
   ]
  },
  {
   "cell_type": "code",
   "execution_count": 51,
   "metadata": {},
   "outputs": [],
   "source": [
    "def make_mate(a):\n",
    "    n = len(a)\n",
    "    for i in range(0, n-1):\n",
    "        for j in range(i+1, n):\n",
    "            print(('{} - {}').format(a[i], a[j]))"
   ]
  },
  {
   "cell_type": "code",
   "execution_count": 53,
   "metadata": {},
   "outputs": [
    {
     "name": "stdout",
     "output_type": "stream",
     "text": [
      "Tom - Jerry\n",
      "Tom - Mike\n",
      "Jerry - Mike\n"
     ]
    }
   ],
   "source": [
    "a = [\"Tom\", \"Jerry\", \"Mike\"]\n",
    "make_mate(a)"
   ]
  },
  {
   "cell_type": "code",
   "execution_count": null,
   "metadata": {},
   "outputs": [],
   "source": []
  }
 ],
 "metadata": {
  "kernelspec": {
   "display_name": "Python 3",
   "language": "python",
   "name": "python3"
  },
  "language_info": {
   "codemirror_mode": {
    "name": "ipython",
    "version": 3
   },
   "file_extension": ".py",
   "mimetype": "text/x-python",
   "name": "python",
   "nbconvert_exporter": "python",
   "pygments_lexer": "ipython3",
   "version": "3.7.4"
  }
 },
 "nbformat": 4,
 "nbformat_minor": 2
}
