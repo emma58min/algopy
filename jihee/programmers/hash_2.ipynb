{
 "cells": [
  {
   "cell_type": "code",
   "execution_count": null,
   "metadata": {},
   "outputs": [],
   "source": [
    "def solution(phone_book):\n",
    "    for i in phone_book:\n",
    "        empty = [] ## 빈 리스트 만들구\n",
    "        temp = phone_book.copy() # 전화목록 리스트 카피뜨구\n",
    "        temp.remove(i) #비교 기준은 지우고\n",
    "        for num in temp: # 카피뜬거에서  비교기준 길이만큼 앞부분 잘라서\n",
    "                    \n",
    "            empty.append(num[0:len(i)])\n",
    "\n",
    "        if i in empty: # 그 리스트 안에 비교 기준이랑 같은게 있으면 False\n",
    "            return False\n",
    "    return True"
   ]
  }
 ],
 "metadata": {
  "kernelspec": {
   "display_name": "Python 3",
   "language": "python",
   "name": "python3"
  },
  "language_info": {
   "codemirror_mode": {
    "name": "ipython",
    "version": 3
   },
   "file_extension": ".py",
   "mimetype": "text/x-python",
   "name": "python",
   "nbconvert_exporter": "python",
   "pygments_lexer": "ipython3",
   "version": "3.8.2"
  }
 },
 "nbformat": 4,
 "nbformat_minor": 4
}
